{
 "cells": [
  {
   "cell_type": "code",
   "execution_count": 3,
   "id": "f76f5acb-6972-47ae-845b-e2f131db250c",
   "metadata": {},
   "outputs": [],
   "source": [
    "from plotnine import *\n",
    "import numpy as np\n",
    "import pandas as pd\n",
    "%matplotlib inline"
   ]
  },
  {
   "cell_type": "markdown",
   "id": "efe3185d-3c24-4263-8b0f-3676d3b83af4",
   "metadata": {},
   "source": [
    "#  GGplot Exercises"
   ]
  },
  {
   "cell_type": "code",
   "execution_count": 8,
   "id": "398065e8-c49b-4ff3-bfb1-4401e8bf2147",
   "metadata": {},
   "outputs": [
    {
     "ename": "ImportError",
     "evalue": "cannot import name 'crime' from 'plotnine.data' (/Users/pablocrespo/opt/anaconda3/lib/python3.8/site-packages/plotnine/data/__init__.py)",
     "output_type": "error",
     "traceback": [
      "\u001b[0;31m---------------------------------------------------------------------------\u001b[0m",
      "\u001b[0;31mImportError\u001b[0m                               Traceback (most recent call last)",
      "\u001b[0;32m<ipython-input-8-efb280f8c5e9>\u001b[0m in \u001b[0;36m<module>\u001b[0;34m\u001b[0m\n\u001b[1;32m      4\u001b[0m \u001b[0;32mfrom\u001b[0m \u001b[0mplotnine\u001b[0m\u001b[0;34m.\u001b[0m\u001b[0mdata\u001b[0m \u001b[0;32mimport\u001b[0m \u001b[0mmpg\u001b[0m\u001b[0;34m\u001b[0m\u001b[0;34m\u001b[0m\u001b[0m\n\u001b[1;32m      5\u001b[0m \u001b[0;32mfrom\u001b[0m \u001b[0mplotnine\u001b[0m\u001b[0;34m.\u001b[0m\u001b[0mdata\u001b[0m \u001b[0;32mimport\u001b[0m \u001b[0mdiamonds\u001b[0m\u001b[0;34m\u001b[0m\u001b[0;34m\u001b[0m\u001b[0m\n\u001b[0;32m----> 6\u001b[0;31m \u001b[0;32mfrom\u001b[0m \u001b[0mplotnine\u001b[0m\u001b[0;34m.\u001b[0m\u001b[0mdata\u001b[0m \u001b[0;32mimport\u001b[0m \u001b[0mcrime\u001b[0m\u001b[0;34m\u001b[0m\u001b[0;34m\u001b[0m\u001b[0m\n\u001b[0m",
      "\u001b[0;31mImportError\u001b[0m: cannot import name 'crime' from 'plotnine.data' (/Users/pablocrespo/opt/anaconda3/lib/python3.8/site-packages/plotnine/data/__init__.py)"
     ]
    }
   ],
   "source": [
    "#Import relevant data\n",
    "\n",
    "from plotnine.data import economics\n",
    "from plotnine.data import mpg\n",
    "from plotnine.data import diamonds\n"
   ]
  },
  {
   "cell_type": "markdown",
   "id": "37b55626-abf2-49d5-bef2-f6a79b6abdf5",
   "metadata": {},
   "source": [
    "## Exercise 1\n",
    "\n",
    "Draw scatterplots for each of these datasets where you can see the relation for\n",
    "\n",
    "- economics: date, unemplot  (date and unemployment)\n",
    "- diamonds: carat, price (carat and price)\n",
    "- mpg: cty, hwy (city vs highway miles per gallon)"
   ]
  },
  {
   "cell_type": "markdown",
   "id": "eff29033-31b0-4f2f-9897-6e8943ce0d98",
   "metadata": {},
   "source": [
    "## Exercise 2\n",
    "\n",
    "For the scatterplots above, change color, shape or size for the dots according to some other variable of interest. Pick your own, do one of each. Explore your data."
   ]
  },
  {
   "cell_type": "markdown",
   "id": "6983cde9-c463-43be-baed-ffd99177c2f2",
   "metadata": {},
   "source": [
    "Taken from [here](https://rstudio-pubs-static.s3.amazonaws.com/254718_86eb2e4e892947869b3d56affc0dfa69.html)"
   ]
  },
  {
   "cell_type": "markdown",
   "id": "6905c8a3-f379-4c05-b29c-4abccb1b1f3d",
   "metadata": {},
   "source": [
    "## Exercise 3 \n",
    "\n",
    "For the mpg dataset, contruct a boxplot for the values of highway miles for each category on the variable drv"
   ]
  },
  {
   "cell_type": "markdown",
   "id": "804041f7-f78d-4fec-b973-591e1ee5d839",
   "metadata": {},
   "source": [
    "## Exercise 4\n",
    "\n",
    "For the data in diamonds construct a histogram and a density plot for the variable carat.\n",
    "\n",
    "Then make them overlay"
   ]
  },
  {
   "cell_type": "code",
   "execution_count": null,
   "id": "284d986e-38b0-4865-9d0d-6c3fe64804f7",
   "metadata": {},
   "outputs": [],
   "source": []
  }
 ],
 "metadata": {
  "kernelspec": {
   "display_name": "Python 3",
   "language": "python",
   "name": "python3"
  },
  "language_info": {
   "codemirror_mode": {
    "name": "ipython",
    "version": 3
   },
   "file_extension": ".py",
   "mimetype": "text/x-python",
   "name": "python",
   "nbconvert_exporter": "python",
   "pygments_lexer": "ipython3",
   "version": "3.8.8"
  }
 },
 "nbformat": 4,
 "nbformat_minor": 5
}
