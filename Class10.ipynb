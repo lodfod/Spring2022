{
 "cells": [
  {
   "cell_type": "markdown",
   "id": "0f8b7603-7350-4d5a-b0ce-517460e67434",
   "metadata": {},
   "source": [
    "# OLS (Linear Regression)"
   ]
  },
  {
   "cell_type": "code",
   "execution_count": null,
   "id": "9cd25da8-8a67-48cb-9530-f7ab19d7bab6",
   "metadata": {},
   "outputs": [],
   "source": [
    "import pandas as pd\n",
    "import numpy as np\n",
    "import matplotlib.pyplot as plt\n",
    "%matplotlib inline\n",
    "import statsmodels.formula.api as smf\n",
    "\n",
    "from plotnine import *\n",
    "%matplotlib inline"
   ]
  },
  {
   "cell_type": "code",
   "execution_count": null,
   "id": "8af36a1a-8f71-4c00-b50a-532d6d6d4388",
   "metadata": {},
   "outputs": [],
   "source": [
    "url = 'https://raw.githubusercontent.com/mwaugh0328/Data_Bootcamp_Fall_2017/master/data_bootcamp_1127/trump_data.csv'\n",
    "df = pd.read_csv(url,encoding='latin-1',index_col=0)\n",
    "df = df.dropna(subset=['income'])"
   ]
  },
  {
   "cell_type": "code",
   "execution_count": null,
   "id": "96fd3422-95d3-4cd2-9d81-757474c2db1e",
   "metadata": {},
   "outputs": [],
   "source": [
    "df.head()"
   ]
  },
  {
   "cell_type": "markdown",
   "id": "2c4ced6e-c952-47b2-913f-29189584c7fd",
   "metadata": {},
   "source": [
    "Linear regression is a methodology that can be used for either prediction or causal analysis depending on how it is designed. For now we will use it for prediction. \n",
    "\n",
    "The way it works is that we assume that there is a linear expression of one variable $y$ called the 'dependent' or 'outcome', based on other ones called the 'independent variables' $X$ and some unobservables $\\varepsilon$\n",
    "\n",
    "$$y=\\beta_0+\\beta_1 X+\\varepsilon$$\n",
    "\n",
    "\n",
    "By finding the values of $\\beta_0$ and $\\beta_1$ that best solve for the group of equations we can find with data for $y$ and $X$, we can then predict what values of $y$ would be if we had some hypothetical values of $X$ not in the data.\n",
    "\n",
    "While it seems that this form is very restrictive, $X$ can take any transformation of a variable, including polynomials, sines and others that while being written in linear form, don't necessarily generate straight lines. \n",
    "\n",
    "\n",
    "We are going to look at the 2016 election data to see if we can predict the share of voters for Trump in a county using the average income for it."
   ]
  },
  {
   "cell_type": "markdown",
   "id": "67f933cf-1933-4272-b4e3-10a3401875a4",
   "metadata": {},
   "source": [
    "$$y=\\beta_0+\\beta_1 X+\\varepsilon$$\n",
    "\n",
    "$$\\frac{dy}{dX}=\\beta_1$$\n",
    "\n",
    "LaTeX\n",
    "\n"
   ]
  },
  {
   "cell_type": "code",
   "execution_count": null,
   "id": "a49d15e9-181f-4661-8344-ec522fb8e186",
   "metadata": {},
   "outputs": [],
   "source": [
    "# y is trump_share, X is income\n",
    "\n",
    "reg1 = smf.ols('trump_share ~ income',df).fit()"
   ]
  },
  {
   "cell_type": "code",
   "execution_count": null,
   "id": "b809b44a-9734-4af9-84c3-9715fa5c43b6",
   "metadata": {},
   "outputs": [],
   "source": [
    "reg1.summary()"
   ]
  },
  {
   "cell_type": "code",
   "execution_count": null,
   "id": "601ce375-2379-4343-a315-75797ed927a5",
   "metadata": {},
   "outputs": [],
   "source": [
    "#OK, so how do we know what are the betas?\n",
    "\n",
    "reg1.params"
   ]
  },
  {
   "cell_type": "markdown",
   "id": "0ecb37a9-be1e-4d60-9edc-ff022567df18",
   "metadata": {},
   "source": [
    "Intercept is $\\hat{\\beta}_0$ the estimate for $\\beta_0$, and income is $\\hat{\\beta}_1$ the estimate for $\\beta_1$"
   ]
  },
  {
   "cell_type": "markdown",
   "id": "f2090944-a374-494a-aac1-76b983c6f76b",
   "metadata": {},
   "source": [
    "If we wanted to see all predicted values of $y$ if we fed the same values of $X$ to our equation we could do this"
   ]
  },
  {
   "cell_type": "code",
   "execution_count": null,
   "id": "00284a5d-863a-4e17-88d9-57b3a6d028fc",
   "metadata": {},
   "outputs": [],
   "source": [
    "df['preds_reg1']=reg1.predict()"
   ]
  },
  {
   "cell_type": "code",
   "execution_count": null,
   "id": "26dc7a04-44cb-40b1-a506-5c57f81d7d90",
   "metadata": {},
   "outputs": [],
   "source": [
    "df.head()"
   ]
  },
  {
   "cell_type": "code",
   "execution_count": null,
   "id": "d197f9ce-256a-41de-8f5c-4cf4aaa51ee0",
   "metadata": {},
   "outputs": [],
   "source": [
    "# We will sort the dataframe by the values of income so we\n",
    "# can plot easily\n",
    "\n",
    "\n",
    "df.sort_values(by='trump_share', inplace=True)\n",
    "\n",
    "df.head()"
   ]
  },
  {
   "cell_type": "code",
   "execution_count": null,
   "id": "2d7273f7-dda0-4761-84b1-e52b37697c3b",
   "metadata": {},
   "outputs": [],
   "source": [
    "(ggplot(df, aes(x='income', y='trump_share'))+\n",
    "       geom_point(color='steelblue')+\n",
    " geom_line(aes(x='income', y='preds_reg1'), color='darkorange' )+\n",
    " theme_bw()\n",
    "       )"
   ]
  },
  {
   "cell_type": "markdown",
   "id": "2d39a262-02d2-4421-a515-ac88be1df692",
   "metadata": {},
   "source": [
    "This doesn't look like it did very well... maybe we can use a different independent variable like population"
   ]
  },
  {
   "cell_type": "code",
   "execution_count": null,
   "id": "d06fce23-318e-4d8c-b065-5646de89ba59",
   "metadata": {},
   "outputs": [],
   "source": [
    "reg2 = smf.ols('trump_share ~ population',df).fit()\n",
    "reg2.summary()"
   ]
  },
  {
   "cell_type": "code",
   "execution_count": null,
   "id": "2d9b5543-818a-4345-a88c-318af6ada68b",
   "metadata": {},
   "outputs": [],
   "source": [
    "df['preds_reg2']=reg2.predict()\n",
    "\n"
   ]
  },
  {
   "cell_type": "code",
   "execution_count": null,
   "id": "7dd00160-a53a-4c96-b18f-cf5d8bcf8b7b",
   "metadata": {},
   "outputs": [],
   "source": [
    "(ggplot(df, aes(x='population', y='trump_share'))+\n",
    "       geom_point(color='steelblue')+\n",
    " geom_line(aes(x='population', y='preds_reg2'), color='darkorange' )+\n",
    " theme_bw()\n",
    "       )"
   ]
  },
  {
   "cell_type": "code",
   "execution_count": null,
   "id": "cf8bd5bc-9511-41e3-a701-fc622e4f69be",
   "metadata": {},
   "outputs": [],
   "source": [
    "# Let's look at the distribution of population\n",
    "\n",
    "\n",
    "(ggplot(df, aes(x='population'))+\n",
    "geom_histogram(fill='darkorange', bins=100)+\n",
    " theme_bw()\n",
    ")"
   ]
  },
  {
   "cell_type": "code",
   "execution_count": null,
   "id": "84ce6ea7-439a-4356-b802-6c00e6d012b0",
   "metadata": {},
   "outputs": [],
   "source": [
    "np.log(1000)-np.log(100)"
   ]
  },
  {
   "cell_type": "code",
   "execution_count": null,
   "id": "57aaea62-6cb2-4663-9c67-2304609c3674",
   "metadata": {},
   "outputs": [],
   "source": [
    "np.log(10000)-np.log(1000)"
   ]
  },
  {
   "cell_type": "code",
   "execution_count": null,
   "id": "eef2925d-cdc6-477d-95d9-fce509648baf",
   "metadata": {},
   "outputs": [],
   "source": [
    "(ggplot(df, aes(x=np.log(df['population'])))+\n",
    " geom_histogram(fill='darkorange')+\n",
    " theme_bw()\n",
    ")"
   ]
  },
  {
   "cell_type": "code",
   "execution_count": null,
   "id": "12ce0dd7-b9e7-4787-9d5f-a239b9ebed40",
   "metadata": {},
   "outputs": [],
   "source": [
    "#Let's make a new variable and see if it works better\n",
    "\n",
    "df['lnpop']=np.log(df['population'])"
   ]
  },
  {
   "cell_type": "code",
   "execution_count": null,
   "id": "74013774-222b-419e-9b18-b8114904c3d8",
   "metadata": {},
   "outputs": [],
   "source": [
    "reg3 = smf.ols('trump_share ~ lnpop',df).fit()\n",
    "reg3.summary()"
   ]
  },
  {
   "cell_type": "code",
   "execution_count": null,
   "id": "45b72fc2-f45c-4ce2-a242-d807137af2ef",
   "metadata": {},
   "outputs": [],
   "source": [
    "df['preds_reg3']=reg3.predict()\n"
   ]
  },
  {
   "cell_type": "code",
   "execution_count": null,
   "id": "ddee7ac8-a36d-41ee-9936-0388a0138360",
   "metadata": {},
   "outputs": [],
   "source": [
    "(ggplot(df, aes(x='lnpop', y='trump_share'))+\n",
    "       geom_point(color='steelblue')+\n",
    " geom_line(aes(x='lnpop', y='preds_reg3'), color='darkorange' )+\n",
    " theme_bw()\n",
    "       )"
   ]
  },
  {
   "cell_type": "code",
   "execution_count": null,
   "id": "bc26d9d2-a705-4d03-8999-ec12a96142d2",
   "metadata": {},
   "outputs": [],
   "source": [
    "#This looks a lot better! I want to check something though\n",
    "\n",
    "(ggplot(df, aes(x='population', y='trump_share'))+\n",
    "       geom_point(color='steelblue')+\n",
    " geom_line(aes(x='population', y='preds_reg3'), color='darkorange')+\n",
    " theme_bw()\n",
    "       )"
   ]
  },
  {
   "cell_type": "code",
   "execution_count": null,
   "id": "4c08f279-8f80-46f5-b469-32c7206db1a9",
   "metadata": {},
   "outputs": [],
   "source": [
    "#we can assess the fit with the R squared, the closest it is to\n",
    "#to one, the better the fit\n",
    "\n",
    "print('reg with just income R squared is:', reg1.rsquared)\n",
    "print('reg with just population R squared is:', reg2.rsquared)\n",
    "print('reg with just log population R squared is:', reg3.rsquared)\n",
    "\n"
   ]
  },
  {
   "cell_type": "code",
   "execution_count": null,
   "id": "904723da-fda9-443c-b69f-02a391f03ef6",
   "metadata": {},
   "outputs": [],
   "source": [
    "# so we see we are doing better. Let's do one more\n",
    "\n",
    "reg4 = smf.ols('trump_share ~ income+lnpop',df).fit()\n",
    "reg4.summary()"
   ]
  },
  {
   "cell_type": "code",
   "execution_count": null,
   "id": "962cc4b3-8bad-43ec-8d78-82e85c03aae6",
   "metadata": {},
   "outputs": [],
   "source": [
    "df['preds_reg4']=reg4.predict()"
   ]
  },
  {
   "cell_type": "code",
   "execution_count": null,
   "id": "95ed25d1-f577-461b-b6e5-c44b7d481917",
   "metadata": {},
   "outputs": [],
   "source": [
    "(ggplot(df, aes(x='income', y='trump_share'))+\n",
    "       geom_point(color='steelblue')+\n",
    " geom_line(aes(x='income', y='preds_reg4'), color='darkorange' )+\n",
    " theme_bw()\n",
    "       )"
   ]
  },
  {
   "cell_type": "code",
   "execution_count": null,
   "id": "08f27b16-a44d-4536-af7d-0f0fe5e993ee",
   "metadata": {},
   "outputs": [],
   "source": [
    "(ggplot(df, aes(x='lnpop', y='trump_share'))+\n",
    "       geom_point(color='steelblue')+\n",
    " geom_line(aes(x='lnpop', y='preds_reg4'), color='darkorange' )+\n",
    " theme_bw()\n",
    "       )"
   ]
  },
  {
   "cell_type": "code",
   "execution_count": null,
   "id": "8ce0f08e-b677-4f97-8dcb-36009ce33ac1",
   "metadata": {},
   "outputs": [],
   "source": [
    "regdf=reg4.conf_int()\n",
    "regdf"
   ]
  },
  {
   "cell_type": "code",
   "execution_count": null,
   "id": "6c60ccc0-2435-4e28-aa2e-e78189f02039",
   "metadata": {},
   "outputs": [],
   "source": [
    "regdf['betas']=reg4.params\n",
    "regdf"
   ]
  },
  {
   "cell_type": "code",
   "execution_count": null,
   "id": "e3f1e940-9b27-404f-a82b-727412682589",
   "metadata": {},
   "outputs": [],
   "source": [
    "regdf.reset_index(inplace=True)\n",
    "regdf.columns=['Variable','Lower_Bound', 'Upper_Bound', 'Beta']"
   ]
  },
  {
   "cell_type": "code",
   "execution_count": null,
   "id": "83d9176e-c929-4663-aece-8196788d2a0c",
   "metadata": {},
   "outputs": [],
   "source": [
    "regdf"
   ]
  },
  {
   "cell_type": "code",
   "execution_count": null,
   "id": "ce76eda7-fd1c-4023-9371-e25e4a9d567d",
   "metadata": {},
   "outputs": [],
   "source": [
    "#We could do a quick visualization of this for interpretation!\n",
    "(ggplot(regdf, aes(y='Beta', x='Variable', label='Beta'))+\n",
    " \n",
    " \n",
    " geom_point(size=14, color='steelblue')+\n",
    " geom_errorbar(ymin=regdf['Lower_Bound'], ymax=regdf['Upper_Bound'],\n",
    "              color='steelblue')+\n",
    " geom_text(format_string='{:.4f}', color='white', size=5)+\n",
    " ylim([-1, 1.4])+\n",
    " geom_hline(yintercept=0, linetype='dashed', color='darkorange')+\n",
    " coord_flip()+\n",
    " theme_bw()\n",
    "\n",
    ")\n",
    "\n"
   ]
  },
  {
   "cell_type": "markdown",
   "id": "8c078f49-7451-4d88-a1d7-4cad86655fe7",
   "metadata": {},
   "source": [
    "The things that are difficult about this:\n",
    "\n",
    "\n",
    "* Specifying a good relationship is hard!\n",
    "* We don't know what other variables could be relevant!\n",
    "* If we add everything but the kitchen sink, the R square goes up...but it doesn't mean that the model is better\n",
    "\n",
    "\n",
    "\n",
    "The things that are great!\n",
    "\n",
    "* Interpretation is simple!!! \n",
    "\n",
    "For \n",
    "\n",
    "$$y=\\beta_0+\\beta_1 X+\\varepsilon$$\n",
    "\n",
    "\n",
    "$$\\beta_1=\\frac{dy}{dx}$$\n",
    "\n",
    "We can have statistical tests around our parameters!\n",
    "\n"
   ]
  },
  {
   "cell_type": "code",
   "execution_count": null,
   "id": "ba4d6f48-a144-4ea2-8487-c53414ff001f",
   "metadata": {},
   "outputs": [],
   "source": []
  }
 ],
 "metadata": {
  "kernelspec": {
   "display_name": "Python 3",
   "language": "python",
   "name": "python3"
  },
  "language_info": {
   "codemirror_mode": {
    "name": "ipython",
    "version": 3
   },
   "file_extension": ".py",
   "mimetype": "text/x-python",
   "name": "python",
   "nbconvert_exporter": "python",
   "pygments_lexer": "ipython3",
   "version": "3.8.8"
  }
 },
 "nbformat": 4,
 "nbformat_minor": 5
}
