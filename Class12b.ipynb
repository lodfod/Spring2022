{
 "cells": [
  {
   "cell_type": "code",
   "execution_count": 5,
   "id": "1a0a0542-0d00-4133-97ee-da61e60e4e96",
   "metadata": {},
   "outputs": [],
   "source": [
    "import pandas as pd\n",
    "import numpy as np\n",
    "from plotnine import *\n",
    "%matplotlib inline\n",
    "import statsmodels.formula.api as smf\n",
    "\n",
    "from sklearn.neighbors import KNeighborsRegressor as knn\n",
    "from sklearn.ensemble import RandomForestRegressor as rf\n",
    "from sklearn.model_selection import train_test_split"
   ]
  },
  {
   "cell_type": "markdown",
   "id": "17277f28-1237-4e46-9be9-e4e5ff6d6e7e",
   "metadata": {},
   "source": [
    "We will use the cars dataset to try to predict CO2 by weight and volume. We have very few observations"
   ]
  },
  {
   "cell_type": "code",
   "execution_count": 2,
   "id": "25caa395-9842-44cf-888d-d7f82a874f2c",
   "metadata": {},
   "outputs": [],
   "source": [
    "regdf=pd.read_csv('https://www.w3schools.com/python/cars.csv')"
   ]
  },
  {
   "cell_type": "code",
   "execution_count": 6,
   "id": "50e31900-1664-4f68-bd76-00222f3009c9",
   "metadata": {},
   "outputs": [
    {
     "data": {
      "text/plain": [
       "(36, 5)"
      ]
     },
     "execution_count": 6,
     "metadata": {},
     "output_type": "execute_result"
    }
   ],
   "source": [
    "regdf.shape"
   ]
  },
  {
   "cell_type": "markdown",
   "id": "d5151860-3567-41a4-9f65-713890c75cfe",
   "metadata": {},
   "source": [
    "## Question 1\n",
    "\n",
    "Let's try to predict CO2 this via linear regression and see how well it does.\n",
    "\n",
    "Plot the regression line over the scatterplot"
   ]
  },
  {
   "cell_type": "markdown",
   "id": "229902db-8189-4f32-90a6-831be2eb1f03",
   "metadata": {},
   "source": [
    "## Question 2\n",
    "\n",
    "Repeat question 1 with Random forest and Knn\n",
    "\n",
    "Plot the predictions over the scatterplot"
   ]
  },
  {
   "cell_type": "markdown",
   "id": "312e9542-0bdf-494e-af9f-ee2278234fa7",
   "metadata": {},
   "source": [
    "# Question 3 \n",
    "\n",
    "We have very few observartions, but let's see if using the test split can help us find the optimal hyperparameters for knn and random forests (Spoiler: we might not do great)"
   ]
  },
  {
   "cell_type": "code",
   "execution_count": null,
   "id": "0d2faa05-98cd-4b41-92cf-19710951f027",
   "metadata": {},
   "outputs": [],
   "source": []
  }
 ],
 "metadata": {
  "kernelspec": {
   "display_name": "Python 3",
   "language": "python",
   "name": "python3"
  },
  "language_info": {
   "codemirror_mode": {
    "name": "ipython",
    "version": 3
   },
   "file_extension": ".py",
   "mimetype": "text/x-python",
   "name": "python",
   "nbconvert_exporter": "python",
   "pygments_lexer": "ipython3",
   "version": "3.8.8"
  }
 },
 "nbformat": 4,
 "nbformat_minor": 5
}
